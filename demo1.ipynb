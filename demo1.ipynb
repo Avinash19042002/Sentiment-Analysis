{
 "cells": [
  {
   "cell_type": "code",
   "execution_count": null,
   "id": "ea0aa5f7-51b4-457d-8818-9085d101b630",
   "metadata": {},
   "outputs": [],
   "source": [
    "print(\"bakchodi\")"
   ]
  },
  {
   "cell_type": "code",
   "execution_count": null,
   "id": "1d28b759-5cae-4728-ba63-2450980314f0",
   "metadata": {},
   "outputs": [],
   "source": [
    "print(2+2)"
   ]
  },
  {
   "cell_type": "code",
   "execution_count": null,
   "id": "dd04e07d-f9a2-4c2c-a685-ad23f4e1d1e2",
   "metadata": {},
   "outputs": [],
   "source": []
  }
 ],
 "metadata": {
  "kernelspec": {
   "display_name": "Python 3 (ipykernel)",
   "language": "python",
   "name": "python3"
  },
  "language_info": {
   "codemirror_mode": {
    "name": "ipython",
    "version": 3
   },
   "file_extension": ".py",
   "mimetype": "text/x-python",
   "name": "python",
   "nbconvert_exporter": "python",
   "pygments_lexer": "ipython3",
   "version": "3.11.2"
  }
 },
 "nbformat": 4,
 "nbformat_minor": 5
}
