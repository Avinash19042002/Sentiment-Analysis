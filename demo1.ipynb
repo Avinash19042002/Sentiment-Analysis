{
 "cells": [
  {
   "cell_type": "code",
   "execution_count": 1,
   "id": "ea0aa5f7-51b4-457d-8818-9085d101b630",
   "metadata": {
    "execution": {
     "iopub.execute_input": "2024-04-10T15:59:15.103983Z",
     "iopub.status.busy": "2024-04-10T15:59:15.096783Z",
     "iopub.status.idle": "2024-04-10T15:59:15.117688Z",
     "shell.execute_reply": "2024-04-10T15:59:15.118704Z"
    }
   },
   "outputs": [
    {
     "name": "stdout",
     "output_type": "stream",
     "text": [
      "bakchodi\n"
     ]
    }
   ],
   "source": [
    "print(\"bakchodi\")"
   ]
  },
  {
   "cell_type": "code",
   "execution_count": 2,
   "id": "1d28b759-5cae-4728-ba63-2450980314f0",
   "metadata": {
    "execution": {
     "iopub.execute_input": "2024-04-10T15:59:15.131116Z",
     "iopub.status.busy": "2024-04-10T15:59:15.126676Z",
     "iopub.status.idle": "2024-04-10T15:59:15.142100Z",
     "shell.execute_reply": "2024-04-10T15:59:15.143033Z"
    }
   },
   "outputs": [
    {
     "name": "stdout",
     "output_type": "stream",
     "text": [
      "4\n"
     ]
    }
   ],
   "source": [
    "print(2+2)"
   ]
  },
  {
   "cell_type": "code",
   "execution_count": 3,
   "id": "dd04e07d-f9a2-4c2c-a685-ad23f4e1d1e2",
   "metadata": {
    "execution": {
     "iopub.execute_input": "2024-04-10T15:59:15.162672Z",
     "iopub.status.busy": "2024-04-10T15:59:15.159345Z",
     "iopub.status.idle": "2024-04-10T15:59:15.171418Z",
     "shell.execute_reply": "2024-04-10T15:59:15.174174Z"
    }
   },
   "outputs": [
    {
     "name": "stdout",
     "output_type": "stream",
     "text": [
      "Avinash\n"
     ]
    }
   ],
   "source": [
    "print(\"Avinash\")"
   ]
  },
  {
   "cell_type": "code",
   "execution_count": 4,
   "id": "7dc26471-ba54-4867-9fc4-6cf205e2b3a0",
   "metadata": {
    "execution": {
     "iopub.execute_input": "2024-04-10T15:59:15.183997Z",
     "iopub.status.busy": "2024-04-10T15:59:15.182727Z",
     "iopub.status.idle": "2024-04-10T15:59:18.088660Z",
     "shell.execute_reply": "2024-04-10T15:59:18.090717Z"
    }
   },
   "outputs": [
    {
     "name": "stdout",
     "output_type": "stream",
     "text": [
      "Generated Data:\n",
      "     Category  Count\n",
      "0  Category A     75\n",
      "1  Category B     10\n",
      "2  Category C      4\n",
      "3  Category D     26\n"
     ]
    },
    {
     "data": {
      "image/png": "[encoded data removed]",
      "text/plain": [
       "<Figure size 720x432 with 1 Axes>"
      ]
     },
     "metadata": {
      "needs_background": "light"
     },
     "output_type": "display_data"
    }
   ],
   "source": [
    "import pandas as pd\n",
    "import numpy as np\n",
    "import matplotlib.pyplot as plt\n",
    "\n",
    "# Generate random data\n",
    "categories = ['Category A', 'Category B', 'Category C', 'Category D']\n",
    "counts = np.random.randint(1, 100, size=len(categories))\n",
    "\n",
    "# Create a DataFrame\n",
    "data = pd.DataFrame({'Category': categories, 'Count': counts})\n",
    "\n",
    "# Display the data\n",
    "print(\"Generated Data:\")\n",
    "print(data)\n",
    "\n",
    "# Extracting data for plotting\n",
    "x_values = data['Category']\n",
    "y_values = data['Count']\n",
    "\n",
    "# Create a bar chart\n",
    "plt.figure(figsize=(10, 6))\n",
    "plt.bar(x_values, y_values, color='skyblue')\n",
    "plt.xlabel('Category')\n",
    "plt.ylabel('Count')\n",
    "plt.title('Random Data Counts by Category')\n",
    "plt.xticks(rotation=45)  # Rotate x-axis labels for better readability\n",
    "plt.tight_layout()  # Adjust layout to prevent clipping of labels\n",
    "plt.show()\n"
   ]
  },
  {
   "cell_type": "code",
   "execution_count": null,
   "id": "2b7c4cd9-b377-40d2-87c8-ef6b35e57ea0",
   "metadata": {},
   "outputs": [],
   "source": []
  }
 ],
 "metadata": {
  "kernelspec": {
   "display_name": "Python 3 (ipykernel)",
   "language": "python",
   "name": "python3"
  },
  "language_info": {
   "codemirror_mode": {
    "name": "ipython",
    "version": 3
   },
   "file_extension": ".py",
   "mimetype": "text/x-python",
   "name": "python",
   "nbconvert_exporter": "python",
   "pygments_lexer": "ipython3",
   "version": "3.6.9"
  }
 },
 "nbformat": 4,
 "nbformat_minor": 5
}
