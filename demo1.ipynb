{
 "cells": [
  {
   "cell_type": "code",
   "execution_count": null,
   "id": "ea0aa5f7-51b4-457d-8818-9085d101b630",
   "metadata": {},
   "outputs": [],
   "source": [
    "print(\"bakchodi\")"
   ]
  },
  {
   "cell_type": "code",
   "execution_count": null,
   "id": "1d28b759-5cae-4728-ba63-2450980314f0",
   "metadata": {},
   "outputs": [],
   "source": [
    "print(2+2)"
   ]
  },
  {
   "cell_type": "code",
   "execution_count": null,
   "id": "dd04e07d-f9a2-4c2c-a685-ad23f4e1d1e2",
   "metadata": {},
   "outputs": [],
   "source": [
    "print(\"Avinash\")"
   ]
  },
  {
   "cell_type": "code",
   "execution_count": null,
   "id": "7dc26471-ba54-4867-9fc4-6cf205e2b3a0",
   "metadata": {},
   "outputs": [],
   "source": [
    "import pandas as pd\n",
    "import numpy as np\n",
    "import matplotlib.pyplot as plt\n",
    "\n",
    "# Generate random data\n",
    "categories = ['Category A', 'Category B', 'Category C', 'Category D']\n",
    "counts = np.random.randint(1, 100, size=len(categories))\n",
    "\n",
    "# Create a DataFrame\n",
    "data = pd.DataFrame({'Category': categories, 'Count': counts})\n",
    "\n",
    "# Display the data\n",
    "print(\"Generated Data:\")\n",
    "print(data)\n",
    "\n",
    "# Extracting data for plotting\n",
    "x_values = data['Category']\n",
    "y_values = data['Count']\n",
    "\n",
    "# Create a bar chart\n",
    "plt.figure(figsize=(10, 6))\n",
    "plt.bar(x_values, y_values, color='skyblue')\n",
    "plt.xlabel('Category')\n",
    "plt.ylabel('Count')\n",
    "plt.title('Random Data Counts by Category')\n",
    "plt.xticks(rotation=45)  # Rotate x-axis labels for better readability\n",
    "plt.tight_layout()  # Adjust layout to prevent clipping of labels\n",
    "plt.show()\n"
   ]
  },
  {
   "cell_type": "code",
   "execution_count": null,
   "id": "2b7c4cd9-b377-40d2-87c8-ef6b35e57ea0",
   "metadata": {},
   "outputs": [],
   "source": []
  }
 ],
 "metadata": {
  "kernelspec": {
   "display_name": "Python 3 (ipykernel)",
   "language": "python",
   "name": "python3"
  },
  "language_info": {
   "codemirror_mode": {
    "name": "ipython",
    "version": 3
   },
   "file_extension": ".py",
   "mimetype": "text/x-python",
   "name": "python",
   "nbconvert_exporter": "python",
   "pygments_lexer": "ipython3",
   "version": "3.11.2"
  }
 },
 "nbformat": 4,
 "nbformat_minor": 5
}
