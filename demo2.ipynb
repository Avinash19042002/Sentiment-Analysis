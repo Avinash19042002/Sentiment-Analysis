{
 "cells": [
  {
   "cell_type": "code",
   "execution_count": null,
   "id": "096db907-340a-4a01-8aea-dc3a801466ce",
   "metadata": {},
   "outputs": [],
   "source": [
    "import pandas as pd\n",
    "import numpy as np\n",
    "import matplotlib.pyplot as plt\n",
    "\n",
    "# Generate random data\n",
    "categories = ['Category A', 'Category B', 'Category C', 'Category D']\n",
    "counts = np.random.randint(1, 100, size=len(categories))\n",
    "\n",
    "# Create a DataFrame\n",
    "data = pd.DataFrame({'Category': categories, 'Count': counts})\n",
    "\n",
    "# Display the data\n",
    "print(\"Generated Data:\")\n",
    "print(data)\n",
    "\n",
    "# Extracting data for plotting\n",
    "x_values = data['Category']\n",
    "y_values = data['Count']\n",
    "\n",
    "# Create a bar chart\n",
    "plt.figure(figsize=(10, 6))\n",
    "plt.bar(x_values, y_values, color='skyblue')\n",
    "plt.xlabel('Category')\n",
    "plt.ylabel('Count')\n",
    "plt.title('Random Data Counts by Category')\n",
    "plt.xticks(rotation=45)  # Rotate x-axis labels for better readability\n",
    "plt.tight_layout()  # Adjust layout to prevent clipping of labels\n",
    "plt.show()\n"
   ]
  },
  {
   "cell_type": "code",
   "execution_count": null,
   "id": "79cfc253-7d53-4c20-a0b5-494d9a635316",
   "metadata": {},
   "outputs": [],
   "source": [
    "print(\"ye without virtual environment\")"
   ]
  }
 ],
 "metadata": {
  "kernelspec": {
   "display_name": "Python 3 (ipykernel)",
   "language": "python",
   "name": "python3"
  },
  "language_info": {
   "codemirror_mode": {
    "name": "ipython",
    "version": 3
   },
   "file_extension": ".py",
   "mimetype": "text/x-python",
   "name": "python",
   "nbconvert_exporter": "python",
   "pygments_lexer": "ipython3",
   "version": "3.11.2"
  }
 },
 "nbformat": 4,
 "nbformat_minor": 5
}
