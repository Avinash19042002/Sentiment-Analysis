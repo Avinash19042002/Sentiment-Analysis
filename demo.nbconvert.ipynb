{
 "cells": [
  {
   "cell_type": "code",
   "execution_count": 1,
   "metadata": {
    "_cell_guid": "b1076dfc-b9ad-4769-8c92-a6c4dae69d19",
    "_uuid": "8f2839f25d086af736a60e9eeb907d3b93b6e0e5",
    "execution": {
     "iopub.execute_input": "2024-04-10T15:29:16.789293Z",
     "iopub.status.busy": "2024-04-10T15:29:16.786964Z",
     "iopub.status.idle": "2024-04-10T15:29:16.822706Z",
     "shell.execute_reply": "2024-04-10T15:29:16.823556Z"
    }
   },
   "outputs": [
    {
     "name": "stdout",
     "output_type": "stream",
     "text": [
      "Avishek\n"
     ]
    }
   ],
   "source": [
    "print(\"Avishek\")"
   ]
  },
  {
   "cell_type": "code",
   "execution_count": 2,
   "metadata": {
    "execution": {
     "iopub.execute_input": "2024-04-10T15:29:16.832822Z",
     "iopub.status.busy": "2024-04-10T15:29:16.831562Z",
     "iopub.status.idle": "2024-04-10T15:29:16.839068Z",
     "shell.execute_reply": "2024-04-10T15:29:16.839836Z"
    }
   },
   "outputs": [
    {
     "name": "stdout",
     "output_type": "stream",
     "text": [
      "Avinash\n"
     ]
    }
   ],
   "source": [
    "print(\"Avinash\")"
   ]
  },
  {
   "cell_type": "code",
   "execution_count": 3,
   "metadata": {
    "execution": {
     "iopub.execute_input": "2024-04-10T15:29:16.852057Z",
     "iopub.status.busy": "2024-04-10T15:29:16.847934Z",
     "iopub.status.idle": "2024-04-10T15:29:16.863747Z",
     "shell.execute_reply": "2024-04-10T15:29:16.865892Z"
    }
   },
   "outputs": [
    {
     "name": "stdout",
     "output_type": "stream",
     "text": [
      "4\n"
     ]
    }
   ],
   "source": [
    "print(2+2)"
   ]
  },
  {
   "cell_type": "code",
   "execution_count": 4,
   "metadata": {
    "execution": {
     "iopub.execute_input": "2024-04-10T15:29:16.879148Z",
     "iopub.status.busy": "2024-04-10T15:29:16.875950Z",
     "iopub.status.idle": "2024-04-10T15:29:16.882194Z",
     "shell.execute_reply": "2024-04-10T15:29:16.882959Z"
    }
   },
   "outputs": [
    {
     "name": "stdout",
     "output_type": "stream",
     "text": [
      "7\n"
     ]
    }
   ],
   "source": [
    "print(2+5)"
   ]
  }
 ],
 "metadata": {
  "kaggle": {
   "accelerator": "none",
   "dataSources": [],
   "dockerImageVersionId": 30684,
   "isGpuEnabled": false,
   "isInternetEnabled": false,
   "language": "python",
   "sourceType": "notebook"
  },
  "kernelspec": {
   "display_name": "Python 3",
   "language": "python",
   "name": "python3"
  },
  "language_info": {
   "codemirror_mode": {
    "name": "ipython",
    "version": 3
   },
   "file_extension": ".py",
   "mimetype": "text/x-python",
   "name": "python",
   "nbconvert_exporter": "python",
   "pygments_lexer": "ipython3",
   "version": "3.6.9"
  }
 },
 "nbformat": 4,
 "nbformat_minor": 4
}
